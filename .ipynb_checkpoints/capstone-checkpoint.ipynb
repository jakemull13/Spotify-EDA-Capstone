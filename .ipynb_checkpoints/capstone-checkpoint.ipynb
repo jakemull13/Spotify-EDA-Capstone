{
 "cells": [
  {
   "cell_type": "markdown",
   "metadata": {},
   "source": [
    "### Set Up Environment:"
   ]
  },
  {
   "cell_type": "code",
   "execution_count": 23,
   "metadata": {},
   "outputs": [],
   "source": [
    "import pandas as pd\n",
    "import numpy as np\n",
    "import json"
   ]
  },
  {
   "cell_type": "markdown",
   "metadata": {},
   "source": [
    "### Install Node.js and Create Web Application:"
   ]
  },
  {
   "cell_type": "code",
   "execution_count": null,
   "metadata": {},
   "outputs": [],
   "source": []
  },
  {
   "cell_type": "markdown",
   "metadata": {},
   "source": [
    "### Install spotipy library and import:"
   ]
  },
  {
   "cell_type": "code",
   "execution_count": 1,
   "metadata": {},
   "outputs": [
    {
     "name": "stdout",
     "output_type": "stream",
     "text": [
      "Requirement already satisfied: spotipy in /Users/jacobmullins/opt/anaconda3/lib/python3.7/site-packages (2.10.0)\n",
      "Requirement already satisfied: requests>=2.20.0 in /Users/jacobmullins/opt/anaconda3/lib/python3.7/site-packages (from spotipy) (2.23.0)\n",
      "Requirement already satisfied: six>=1.10.0 in /Users/jacobmullins/opt/anaconda3/lib/python3.7/site-packages (from spotipy) (1.14.0)\n",
      "Requirement already satisfied: chardet<4,>=3.0.2 in /Users/jacobmullins/opt/anaconda3/lib/python3.7/site-packages (from requests>=2.20.0->spotipy) (3.0.4)\n",
      "Requirement already satisfied: idna<3,>=2.5 in /Users/jacobmullins/opt/anaconda3/lib/python3.7/site-packages (from requests>=2.20.0->spotipy) (2.9)\n",
      "Requirement already satisfied: urllib3!=1.25.0,!=1.25.1,<1.26,>=1.21.1 in /Users/jacobmullins/opt/anaconda3/lib/python3.7/site-packages (from requests>=2.20.0->spotipy) (1.25.8)\n",
      "Requirement already satisfied: certifi>=2017.4.17 in /Users/jacobmullins/opt/anaconda3/lib/python3.7/site-packages (from requests>=2.20.0->spotipy) (2019.11.28)\n",
      "Note: you may need to restart the kernel to use updated packages.\n"
     ]
    }
   ],
   "source": [
    "pip install spotipy"
   ]
  },
  {
   "cell_type": "code",
   "execution_count": null,
   "metadata": {},
   "outputs": [],
   "source": []
  },
  {
   "cell_type": "code",
   "execution_count": 52,
   "metadata": {},
   "outputs": [],
   "source": [
    "import spotipy\n",
    "from spotipy.oauth2 import SpotifyClientCredentials\n",
    "\n",
    "sp = spotipy.Spotify(client_credentials_manager=SpotifyClientCredentials())"
   ]
  },
  {
   "cell_type": "markdown",
   "metadata": {},
   "source": [
    "### Test Query:"
   ]
  },
  {
   "cell_type": "code",
   "execution_count": 53,
   "metadata": {},
   "outputs": [
    {
     "name": "stdout",
     "output_type": "stream",
     "text": [
      "0 Island In The Sun\n",
      "1 Say It Ain't So\n",
      "2 Buddy Holly\n",
      "3 Lost in the Woods - Weezer Version\n",
      "4 Beverly Hills\n",
      "5 Undone - The Sweater Song\n",
      "6 Africa\n",
      "7 Hash Pipe\n",
      "8 My Name Is Jonas\n",
      "9 Feels Like Summer\n",
      "10 Pork And Beans\n",
      "11 The End of the Game\n",
      "12 Take On Me\n",
      "13 El Scorcho\n",
      "14 Perfect Situation\n",
      "15 Everybody Wants To Rule The World\n",
      "16 Only In Dreams\n",
      "17 The Good Life\n",
      "18 Mr. Blue Sky\n",
      "19 The World Has Turned And Left Me Here\n"
     ]
    }
   ],
   "source": [
    "results = sp.search(q='weezer', limit=20)\n",
    "for idx, track in enumerate(results['tracks']['items']):\n",
    "    print(idx, track['name'])"
   ]
  },
  {
   "cell_type": "code",
   "execution_count": 5,
   "metadata": {},
   "outputs": [
    {
     "name": "stdout",
     "output_type": "stream",
     "text": [
      "0 Queen of Mean 4o05DiC0RQ9DNtGJGauwna\n",
      "1 Queens Don't 0ExiKxfY5rHBW06TcV1xXU\n",
      "2 Queen 53b4d9jHQZq89EtQxwUURr\n",
      "3 Bohemian Rhapsody - 2011 Mix 7tFiyTwD0nx5a1eklYtX2J\n",
      "4 Don't Stop Me Now - 2011 Mix 7hQJA50XrCWABAu5v6QZ4i\n",
      "5 Another One Bites The Dust - Remastered 2011 57JVGBtBLCfHw2muk5416J\n",
      "6 Queen (feat. Quinn XCII) 2lxW8vQ9Qjv0qeSQiIBOKJ\n",
      "7 Under Pressure - Remastered 11IzgLRXV7Cgek3tEgGgjw\n",
      "8 Queen Of My Double Wide Trailer 3Wz9Fm9ZyhpaRGxMlSR5G4\n",
      "9 Queen of California 0CETmgFGt8Ne8vLnaLcduU\n"
     ]
    }
   ],
   "source": [
    "results = sp.search('queen')\n",
    "for idx, track in enumerate(results['tracks']['items']):\n",
    "    print(idx, track['name'],  track['id'])"
   ]
  },
  {
   "cell_type": "markdown",
   "metadata": {},
   "source": [
    "### Functions for Web API Gets:"
   ]
  },
  {
   "cell_type": "code",
   "execution_count": 19,
   "metadata": {},
   "outputs": [],
   "source": [
    "def get_analysis(track_id='4o05DiC0RQ9DNtGJGauwna'):\n",
    "    '''\n",
    "    Makes a request to the spotify API that returns an analysis of the track\n",
    "    \n",
    "    Parameters:\n",
    "    track_id: string \n",
    "    \n",
    "    Returns:\n",
    "    json object\n",
    "    \n",
    "    '''\n",
    "    import json\n",
    "    import time\n",
    "    #import sys\n",
    "    start = time.time()\n",
    "    analysis = sp.audio_analysis(track_id)\n",
    "    delta = time.time() - start\n",
    "    print(json.dumps(analysis, indent=4))\n",
    "    print(\"analysis retrieved in %.2f seconds\" % (delta,))"
   ]
  },
  {
   "cell_type": "code",
   "execution_count": 28,
   "metadata": {},
   "outputs": [
    {
     "name": "stdout",
     "output_type": "stream",
     "text": [
      "[\n",
      "    {\n",
      "        \"danceability\": 0.543,\n",
      "        \"energy\": 0.787,\n",
      "        \"key\": 8,\n",
      "        \"loudness\": -6.52,\n",
      "        \"mode\": 1,\n",
      "        \"speechiness\": 0.241,\n",
      "        \"acousticness\": 0.248,\n",
      "        \"instrumentalness\": 0,\n",
      "        \"liveness\": 0.0778,\n",
      "        \"valence\": 0.343,\n",
      "        \"tempo\": 173.702,\n",
      "        \"type\": \"audio_features\",\n",
      "        \"id\": \"4o05DiC0RQ9DNtGJGauwna\",\n",
      "        \"uri\": \"spotify:track:4o05DiC0RQ9DNtGJGauwna\",\n",
      "        \"track_href\": \"https://api.spotify.com/v1/tracks/4o05DiC0RQ9DNtGJGauwna\",\n",
      "        \"analysis_url\": \"https://api.spotify.com/v1/audio-analysis/4o05DiC0RQ9DNtGJGauwna\",\n",
      "        \"duration_ms\": 189397,\n",
      "        \"time_signature\": 4\n",
      "    }\n",
      "]\n",
      "features retrieved in 0.09 seconds\n"
     ]
    },
    {
     "data": {
      "text/html": [
       "<div>\n",
       "<style scoped>\n",
       "    .dataframe tbody tr th:only-of-type {\n",
       "        vertical-align: middle;\n",
       "    }\n",
       "\n",
       "    .dataframe tbody tr th {\n",
       "        vertical-align: top;\n",
       "    }\n",
       "\n",
       "    .dataframe thead th {\n",
       "        text-align: right;\n",
       "    }\n",
       "</style>\n",
       "<table border=\"1\" class=\"dataframe\">\n",
       "  <thead>\n",
       "    <tr style=\"text-align: right;\">\n",
       "      <th></th>\n",
       "      <th>danceability</th>\n",
       "      <th>energy</th>\n",
       "      <th>key</th>\n",
       "      <th>loudness</th>\n",
       "      <th>mode</th>\n",
       "      <th>speechiness</th>\n",
       "      <th>acousticness</th>\n",
       "      <th>instrumentalness</th>\n",
       "      <th>liveness</th>\n",
       "      <th>valence</th>\n",
       "      <th>tempo</th>\n",
       "      <th>type</th>\n",
       "      <th>id</th>\n",
       "      <th>uri</th>\n",
       "      <th>track_href</th>\n",
       "      <th>analysis_url</th>\n",
       "      <th>duration_ms</th>\n",
       "      <th>time_signature</th>\n",
       "    </tr>\n",
       "  </thead>\n",
       "  <tbody>\n",
       "    <tr>\n",
       "      <th>0</th>\n",
       "      <td>0.543</td>\n",
       "      <td>0.787</td>\n",
       "      <td>8</td>\n",
       "      <td>-6.52</td>\n",
       "      <td>1</td>\n",
       "      <td>0.241</td>\n",
       "      <td>0.248</td>\n",
       "      <td>0</td>\n",
       "      <td>0.0778</td>\n",
       "      <td>0.343</td>\n",
       "      <td>173.702</td>\n",
       "      <td>audio_features</td>\n",
       "      <td>4o05DiC0RQ9DNtGJGauwna</td>\n",
       "      <td>spotify:track:4o05DiC0RQ9DNtGJGauwna</td>\n",
       "      <td>https://api.spotify.com/v1/tracks/4o05DiC0RQ9D...</td>\n",
       "      <td>https://api.spotify.com/v1/audio-analysis/4o05...</td>\n",
       "      <td>189397</td>\n",
       "      <td>4</td>\n",
       "    </tr>\n",
       "  </tbody>\n",
       "</table>\n",
       "</div>"
      ],
      "text/plain": [
       "   danceability  energy  key  loudness  mode  speechiness  acousticness  \\\n",
       "0         0.543   0.787    8     -6.52     1        0.241         0.248   \n",
       "\n",
       "   instrumentalness  liveness  valence    tempo            type  \\\n",
       "0                 0    0.0778    0.343  173.702  audio_features   \n",
       "\n",
       "                       id                                   uri  \\\n",
       "0  4o05DiC0RQ9DNtGJGauwna  spotify:track:4o05DiC0RQ9DNtGJGauwna   \n",
       "\n",
       "                                          track_href  \\\n",
       "0  https://api.spotify.com/v1/tracks/4o05DiC0RQ9D...   \n",
       "\n",
       "                                        analysis_url  duration_ms  \\\n",
       "0  https://api.spotify.com/v1/audio-analysis/4o05...       189397   \n",
       "\n",
       "   time_signature  \n",
       "0               4  "
      ]
     },
     "execution_count": 28,
     "metadata": {},
     "output_type": "execute_result"
    }
   ],
   "source": [
    "def get_features(track_id='4o05DiC0RQ9DNtGJGauwna'):\n",
    "    '''\n",
    "    Makes a request to the Spotify API that returns the features of the track.\n",
    "    \n",
    "    Parameters:\n",
    "    track_id: string\n",
    "    \n",
    "    Returns:\n",
    "    json objet\n",
    "    '''\n",
    "    import json\n",
    "    import time\n",
    "    \n",
    "    start = time.time()\n",
    "    features = sp.audio_features(track_id)\n",
    "    delta = time.time() - start\n",
    "    print(json.dumps(features, indent=4))\n",
    "    print(\"features retrieved in %.2f seconds\" % (delta,))\n",
    "    return features\n",
    "\n",
    "features = get_features()\n",
    "df = pd.DataFrame(features)\n",
    "df"
   ]
  },
  {
   "cell_type": "code",
   "execution_count": 42,
   "metadata": {},
   "outputs": [
    {
     "data": {
      "text/plain": [
       "['6eo6FqpvzXPthP3v8xlVDO',\n",
       " '6jejpI2DK37FGU65Gw7XxI',\n",
       " '4rTYE2uwh2i3dUjb1BBCGe',\n",
       " '1f2b3b0wKh4FNpUNBFHy4F',\n",
       " '0bDRkXE54yxnSnzBhIlUXj']"
      ]
     },
     "execution_count": 42,
     "metadata": {},
     "output_type": "execute_result"
    }
   ],
   "source": [
    "def get_playlists(user_id = '1227205646' ):\n",
    "    '''\n",
    "    Makes a request to the spotify API that returns the playlist objects in a users library\n",
    "    \n",
    "    Parameters: \n",
    "    user_id: string\n",
    "    \n",
    "    Returns: json playlist object\n",
    "    '''\n",
    "    playlists = sp.user_playlists(user_id)\n",
    "    return playlists\n"
   ]
  },
  {
   "cell_type": "code",
   "execution_count": 49,
   "metadata": {},
   "outputs": [],
   "source": [
    "def get_tracks(playlist_id):\n",
    "    '''Takes a playlist id and returns a json object of its tracks'''\n",
    "    return sp.playlist_tracks(playlist_id)"
   ]
  },
  {
   "cell_type": "markdown",
   "metadata": {},
   "source": [
    "### Get Id's of My Personal Playlists:"
   ]
  },
  {
   "cell_type": "code",
   "execution_count": 44,
   "metadata": {},
   "outputs": [
    {
     "data": {
      "text/plain": [
       "['6eo6FqpvzXPthP3v8xlVDO',\n",
       " '6jejpI2DK37FGU65Gw7XxI',\n",
       " '4rTYE2uwh2i3dUjb1BBCGe',\n",
       " '1f2b3b0wKh4FNpUNBFHy4F',\n",
       " '0bDRkXE54yxnSnzBhIlUXj']"
      ]
     },
     "execution_count": 44,
     "metadata": {},
     "output_type": "execute_result"
    }
   ],
   "source": [
    "playlists = get_playlists()\n",
    "list_of_playlists = []\n",
    "for dic in playlists['items']:\n",
    "    identification = dic['id']\n",
    "    list_of_playlists.append(identification)\n",
    "list_of_playlists"
   ]
  },
  {
   "cell_type": "code",
   "execution_count": 50,
   "metadata": {},
   "outputs": [],
   "source": [
    "### Get Tracks from My Playlist:"
   ]
  },
  {
   "cell_type": "code",
   "execution_count": 54,
   "metadata": {},
   "outputs": [
    {
     "data": {
      "text/plain": [
       "{'href': 'https://api.spotify.com/v1/playlists/6eo6FqpvzXPthP3v8xlVDO/tracks?offset=0&limit=100',\n",
       " 'items': [{'added_at': '2013-04-25T03:04:30Z',\n",
       "   'added_by': {'external_urls': {'spotify': 'https://open.spotify.com/user/1227205646'},\n",
       "    'href': 'https://api.spotify.com/v1/users/1227205646',\n",
       "    'id': '1227205646',\n",
       "    'type': 'user',\n",
       "    'uri': 'spotify:user:1227205646'},\n",
       "   'is_local': True,\n",
       "   'primary_color': None,\n",
       "   'track': {'album': {'album_type': None,\n",
       "     'artists': [],\n",
       "     'available_markets': [],\n",
       "     'external_urls': {},\n",
       "     'href': None,\n",
       "     'id': None,\n",
       "     'images': [],\n",
       "     'name': 'Nero Essentials Mix',\n",
       "     'release_date': None,\n",
       "     'release_date_precision': None,\n",
       "     'type': 'album',\n",
       "     'uri': None},\n",
       "    'artists': [{'external_urls': {},\n",
       "      'href': None,\n",
       "      'id': None,\n",
       "      'name': 'Nero',\n",
       "      'type': 'artist',\n",
       "      'uri': None}],\n",
       "    'available_markets': [],\n",
       "    'disc_number': 0,\n",
       "    'duration_ms': 5089000,\n",
       "    'explicit': False,\n",
       "    'external_ids': {},\n",
       "    'external_urls': {},\n",
       "    'href': None,\n",
       "    'id': None,\n",
       "    'is_local': True,\n",
       "    'name': 'Nero Essential Mix (BBC Radio 1) - Spectrum',\n",
       "    'popularity': 0,\n",
       "    'preview_url': None,\n",
       "    'track_number': 0,\n",
       "    'type': 'track',\n",
       "    'uri': 'spotify:local:Nero:Nero+Essentials+Mix:Nero+Essential+Mix+%28BBC+Radio+1%29+-+Spectrum:5089'},\n",
       "   'video_thumbnail': {'url': None}},\n",
       "  {'added_at': '2013-04-25T03:04:50Z',\n",
       "   'added_by': {'external_urls': {'spotify': 'https://open.spotify.com/user/1227205646'},\n",
       "    'href': 'https://api.spotify.com/v1/users/1227205646',\n",
       "    'id': '1227205646',\n",
       "    'type': 'user',\n",
       "    'uri': 'spotify:user:1227205646'},\n",
       "   'is_local': True,\n",
       "   'primary_color': None,\n",
       "   'track': {'album': {'album_type': None,\n",
       "     'artists': [],\n",
       "     'available_markets': [],\n",
       "     'external_urls': {},\n",
       "     'href': None,\n",
       "     'id': None,\n",
       "     'images': [],\n",
       "     'name': 'Unreleased',\n",
       "     'release_date': None,\n",
       "     'release_date_precision': None,\n",
       "     'type': 'album',\n",
       "     'uri': None},\n",
       "    'artists': [{'external_urls': {},\n",
       "      'href': None,\n",
       "      'id': None,\n",
       "      'name': 'Drake ft. Eminem, Kanye West & Lil Wayne',\n",
       "      'type': 'artist',\n",
       "      'uri': None}],\n",
       "    'available_markets': [],\n",
       "    'disc_number': 0,\n",
       "    'duration_ms': 305000,\n",
       "    'explicit': False,\n",
       "    'external_ids': {},\n",
       "    'external_urls': {},\n",
       "    'href': None,\n",
       "    'id': None,\n",
       "    'is_local': True,\n",
       "    'name': 'Forever (Nero Remix)',\n",
       "    'popularity': 0,\n",
       "    'preview_url': None,\n",
       "    'track_number': 0,\n",
       "    'type': 'track',\n",
       "    'uri': 'spotify:local:Drake+ft.+Eminem%2C+Kanye+West+%26+Lil+Wayne:Unreleased:Forever+%28Nero+Remix%29:305'},\n",
       "   'video_thumbnail': {'url': None}}],\n",
       " 'limit': 100,\n",
       " 'next': None,\n",
       " 'offset': 0,\n",
       " 'previous': None,\n",
       " 'total': 2}"
      ]
     },
     "execution_count": 54,
     "metadata": {},
     "output_type": "execute_result"
    },
    {
     "data": {
      "text/plain": [
       "dict"
      ]
     },
     "execution_count": 54,
     "metadata": {},
     "output_type": "execute_result"
    }
   ],
   "source": [
    "tracks = get_tracks('6eo6FqpvzXPthP3v8xlVDO')\n",
    "tracks\n",
    "type(tracks)"
   ]
  },
  {
   "cell_type": "markdown",
   "metadata": {},
   "source": [
    "# Strategy:\n",
    "## Get Top 100 Playlists by Year\n",
    "## Get Tracks for each Playlist\n",
    "###    - Unpack Into a List\n",
    "## Get Features \n",
    "###    -Create DataFrame\n",
    "## Get Genre of Tracks\n",
    "###     Tack onto the DataFrame, Join on Track_ID\n"
   ]
  },
  {
   "cell_type": "code",
   "execution_count": null,
   "metadata": {},
   "outputs": [],
   "source": []
  }
 ],
 "metadata": {
  "kernelspec": {
   "display_name": "Python 3",
   "language": "python",
   "name": "python3"
  },
  "language_info": {
   "codemirror_mode": {
    "name": "ipython",
    "version": 3
   },
   "file_extension": ".py",
   "mimetype": "text/x-python",
   "name": "python",
   "nbconvert_exporter": "python",
   "pygments_lexer": "ipython3",
   "version": "3.7.7"
  }
 },
 "nbformat": 4,
 "nbformat_minor": 4
}
