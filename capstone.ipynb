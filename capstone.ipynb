{
 "cells": [
  {
   "cell_type": "markdown",
   "metadata": {},
   "source": [
    "### Set Up Environment:"
   ]
  },
  {
   "cell_type": "code",
   "execution_count": 43,
   "metadata": {},
   "outputs": [],
   "source": [
    "import pandas as pd\n",
    "import numpy as np\n",
    "import json\n",
    "import time\n",
    "from matplotlib_venn import venn2, venn3\n",
    "from sklearn.metrics.pairwise import cosine_similarity\n",
    "plt.style.use('seaborn-bright')\n",
    "import seaborn as sns"
   ]
  },
  {
   "cell_type": "code",
   "execution_count": null,
   "metadata": {},
   "outputs": [],
   "source": []
  },
  {
   "cell_type": "markdown",
   "metadata": {},
   "source": [
    "### Install Node.js and Create Web Application:"
   ]
  },
  {
   "cell_type": "code",
   "execution_count": null,
   "metadata": {},
   "outputs": [],
   "source": []
  },
  {
   "cell_type": "markdown",
   "metadata": {},
   "source": [
    "### Install spotipy library and import:"
   ]
  },
  {
   "cell_type": "code",
   "execution_count": 9,
   "metadata": {},
   "outputs": [
    {
     "name": "stdout",
     "output_type": "stream",
     "text": [
      "Requirement already satisfied: spotipy in /Users/jacobmullins/opt/anaconda3/lib/python3.7/site-packages (2.10.0)\n",
      "Requirement already satisfied: six>=1.10.0 in /Users/jacobmullins/opt/anaconda3/lib/python3.7/site-packages (from spotipy) (1.14.0)\n",
      "Requirement already satisfied: requests>=2.20.0 in /Users/jacobmullins/opt/anaconda3/lib/python3.7/site-packages (from spotipy) (2.23.0)\n",
      "Requirement already satisfied: certifi>=2017.4.17 in /Users/jacobmullins/opt/anaconda3/lib/python3.7/site-packages (from requests>=2.20.0->spotipy) (2020.4.5.1)\n",
      "Requirement already satisfied: idna<3,>=2.5 in /Users/jacobmullins/opt/anaconda3/lib/python3.7/site-packages (from requests>=2.20.0->spotipy) (2.9)\n",
      "Requirement already satisfied: urllib3!=1.25.0,!=1.25.1,<1.26,>=1.21.1 in /Users/jacobmullins/opt/anaconda3/lib/python3.7/site-packages (from requests>=2.20.0->spotipy) (1.25.8)\n",
      "Requirement already satisfied: chardet<4,>=3.0.2 in /Users/jacobmullins/opt/anaconda3/lib/python3.7/site-packages (from requests>=2.20.0->spotipy) (3.0.4)\n",
      "Note: you may need to restart the kernel to use updated packages.\n"
     ]
    }
   ],
   "source": [
    "pip install spotipy"
   ]
  },
  {
   "cell_type": "code",
   "execution_count": null,
   "metadata": {},
   "outputs": [],
   "source": []
  },
  {
   "cell_type": "code",
   "execution_count": 10,
   "metadata": {},
   "outputs": [
    {
     "name": "stdout",
     "output_type": "stream",
     "text": [
      "env: SPOTIPY_CLIENT_ID=f5aca3c4a8db4243ba150971bdde2a4e\n",
      "env: SPOTIPY_CLIENT_SECRET=f905f54733484b30a129f4b4be685cc6\n"
     ]
    }
   ],
   "source": [
    "f = open('my_secrets.txt', \"r\")\n",
    "my_user_id = f.readline()\n",
    "my_user_id = '1227205646'\n",
    "\n",
    "%env SPOTIPY_CLIENT_ID = f5aca3c4a8db4243ba150971bdde2a4e\n",
    "%env SPOTIPY_CLIENT_SECRET= f905f54733484b30a129f4b4be685cc6"
   ]
  },
  {
   "cell_type": "code",
   "execution_count": 11,
   "metadata": {},
   "outputs": [],
   "source": [
    "import spotipy\n",
    "from spotipy.oauth2 import SpotifyClientCredentials\n",
    "\n",
    "sp = spotipy.Spotify(client_credentials_manager=SpotifyClientCredentials())"
   ]
  },
  {
   "cell_type": "markdown",
   "metadata": {},
   "source": [
    "### Test Query:"
   ]
  },
  {
   "cell_type": "code",
   "execution_count": 12,
   "metadata": {},
   "outputs": [
    {
     "name": "stdout",
     "output_type": "stream",
     "text": [
      "0 Island In The Sun\n",
      "1 Say It Ain't So\n",
      "2 Buddy Holly\n",
      "3 Lost in the Woods - Weezer Version\n",
      "4 Beverly Hills\n",
      "5 Undone - The Sweater Song\n",
      "6 Africa\n",
      "7 Hash Pipe\n",
      "8 My Name Is Jonas\n",
      "9 Feels Like Summer\n",
      "10 Pork And Beans\n",
      "11 The End of the Game\n",
      "12 Take On Me\n",
      "13 El Scorcho\n",
      "14 Perfect Situation\n",
      "15 Everybody Wants To Rule The World\n",
      "16 Only In Dreams\n",
      "17 The Good Life\n",
      "18 Mr. Blue Sky\n",
      "19 The World Has Turned And Left Me Here\n"
     ]
    }
   ],
   "source": [
    "results = sp.search(q='weezer', limit=20)\n",
    "for idx, track in enumerate(results['tracks']['items']):\n",
    "    print(idx, track['name'])"
   ]
  },
  {
   "cell_type": "code",
   "execution_count": 13,
   "metadata": {},
   "outputs": [
    {
     "name": "stdout",
     "output_type": "stream",
     "text": [
      "0 Queen of Mean 4o05DiC0RQ9DNtGJGauwna\n",
      "1 Queens Don't 0ExiKxfY5rHBW06TcV1xXU\n",
      "2 Queen 53b4d9jHQZq89EtQxwUURr\n",
      "3 Bohemian Rhapsody - 2011 Mix 7tFiyTwD0nx5a1eklYtX2J\n",
      "4 Don't Stop Me Now - 2011 Mix 7hQJA50XrCWABAu5v6QZ4i\n",
      "5 Another One Bites The Dust - Remastered 2011 57JVGBtBLCfHw2muk5416J\n",
      "6 Queen (feat. Quinn XCII) 2lxW8vQ9Qjv0qeSQiIBOKJ\n",
      "7 Under Pressure - Remastered 11IzgLRXV7Cgek3tEgGgjw\n",
      "8 Queen Of My Double Wide Trailer 3Wz9Fm9ZyhpaRGxMlSR5G4\n",
      "9 Queen of California 0CETmgFGt8Ne8vLnaLcduU\n"
     ]
    }
   ],
   "source": [
    "results = sp.search('queen')\n",
    "for idx, track in enumerate(results['tracks']['items']):\n",
    "    print(idx, track['name'],  track['id'])"
   ]
  },
  {
   "cell_type": "markdown",
   "metadata": {},
   "source": [
    "### Functions for Web API Gets:"
   ]
  },
  {
   "cell_type": "code",
   "execution_count": 14,
   "metadata": {},
   "outputs": [],
   "source": [
    "def get_analysis(track_id='4o05DiC0RQ9DNtGJGauwna'):\n",
    "    '''\n",
    "    Makes a request to the spotify API that returns an analysis of the track\n",
    "    \n",
    "    Parameters:\n",
    "    track_id: string \n",
    "    \n",
    "    Returns:\n",
    "    json object\n",
    "    \n",
    "    '''\n",
    "    import json\n",
    "    import time\n",
    "    #import sys\n",
    "    start = time.time()\n",
    "    analysis = sp.audio_analysis(track_id)\n",
    "    delta = time.time() - start\n",
    "    print(json.dumps(analysis, indent=4))\n",
    "    print(\"analysis retrieved in %.2f seconds\" % (delta,))"
   ]
  },
  {
   "cell_type": "code",
   "execution_count": 15,
   "metadata": {},
   "outputs": [],
   "source": [
    "def get_features(track_id='4o05DiC0RQ9DNtGJGauwna'):\n",
    "    '''\n",
    "    Makes a request to the Spotify API that returns the features of the track.\n",
    "    \n",
    "    Parameters:\n",
    "    track_id: string\n",
    "    \n",
    "    Returns:\n",
    "    json objet\n",
    "    '''\n",
    "    import json\n",
    "    \n",
    "    features = sp.audio_features(track_id)\n",
    "    print(json.dumps(features, indent=4))\n",
    "    return features"
   ]
  },
  {
   "cell_type": "code",
   "execution_count": 16,
   "metadata": {},
   "outputs": [],
   "source": [
    "def get_playlists(user_id = '1227205646' ): #this is my personal user id\n",
    "    '''\n",
    "    Makes a request to the spotify API that returns the playlist objects in a users library\n",
    "    \n",
    "    Parameters: \n",
    "    user_id: string\n",
    "    \n",
    "    Returns: json playlist object\n",
    "    '''\n",
    "    playlists = sp.user_playlists(user_id)\n",
    "    return playlists"
   ]
  },
  {
   "cell_type": "code",
   "execution_count": 17,
   "metadata": {},
   "outputs": [],
   "source": [
    "def get_tracks(playlist_id):\n",
    "    '''Takes a playlist id and returns a json object of its tracks'''\n",
    "    return sp.playlist_tracks(playlist_id)"
   ]
  },
  {
   "cell_type": "code",
   "execution_count": 18,
   "metadata": {},
   "outputs": [],
   "source": [
    "def get_list_of_playlists(playlists):\n",
    "    list_of_playlists = []\n",
    "    for dic in playlists['items']:\n",
    "        identification = dic['id']\n",
    "        list_of_playlists.append(identification)\n",
    "    return list_of_playlists"
   ]
  },
  {
   "cell_type": "code",
   "execution_count": 19,
   "metadata": {},
   "outputs": [],
   "source": [
    "### Manually get id's for three playlists I'm interested in to start:\n",
    "global_top50 = \"37i9dQZEVXbMDoHDwVN2tF?si=W6KUPczdSc2KL1TKSH-BXA\"\n",
    "usa_top50 = \"37i9dQZEVXbLRQDuF5jeBp\"\n",
    "uk_top50 = \"1QM1qz09ZzsAPiXphF1l4S\"\n",
    "# top 50 as of 0900AM EST 07APR2020"
   ]
  },
  {
   "cell_type": "code",
   "execution_count": 20,
   "metadata": {},
   "outputs": [],
   "source": [
    "### Function for selecting only the track id's from a playlist (previous function returned the entire 'tracks' json object)\n",
    "def getTrackIDs(user, playlist_id): \n",
    "    ids = []\n",
    "    playlist = sp.user_playlist(user, playlist_id)\n",
    "    for item in playlist['tracks']['items']:\n",
    "        track = item['track']\n",
    "        ids.append(track['id'])\n",
    "    return ids"
   ]
  },
  {
   "cell_type": "code",
   "execution_count": 21,
   "metadata": {},
   "outputs": [],
   "source": [
    "#get track ids for the three playlists I chose\n",
    "global_ids = getTrackIDs(my_user_id, global_top50) # for this function to work, playlist must be in my personal library even if it is a public playlist\n",
    "usa_ids = getTrackIDs(my_user_id, usa_top50)\n",
    "uk_ids = getTrackIDs(my_user_id, uk_top50)"
   ]
  },
  {
   "cell_type": "code",
   "execution_count": 22,
   "metadata": {},
   "outputs": [
    {
     "data": {
      "text/plain": [
       "['canadian contemporary r&b', 'canadian pop', 'pop']"
      ]
     },
     "execution_count": 22,
     "metadata": {},
     "output_type": "execute_result"
    }
   ],
   "source": [
    "def get_Genres(artist_id):\n",
    "    artist = sp.artist(artist_id)\n",
    "    genres = artist[\"genres\"]\n",
    "    return genres\n",
    "get_Genres('1Xyo4u8uXC1ZmMpatF05PJ') #test"
   ]
  },
  {
   "cell_type": "markdown",
   "metadata": {},
   "source": [
    "###### Function modifed from code in Medium Article - https://medium.com/better-programming/how-to-extract-any-artists-data-using-spotify-s-api-python-and-spotipy-4c079401bc37"
   ]
  },
  {
   "cell_type": "code",
   "execution_count": 51,
   "metadata": {},
   "outputs": [],
   "source": [
    "### Collect only the fields we want for each track\n",
    "def getTrackFeatures(id):\n",
    "    meta = sp.track(id)\n",
    "    features = sp.audio_features(id)\n",
    "    if features[0] is None: #if features is NoneType, don't collect data for that track\n",
    "        return\n",
    "\n",
    "    # meta\n",
    "    name = meta['name']\n",
    "    album = meta['album']['name']\n",
    "    artist = meta['album']['artists'][0]['name']\n",
    "    artist_id = meta['album']['artists'][0]['id']\n",
    "    genres = get_Genres(artist_id)\n",
    "    #release_date = meta['album']['release_date']\n",
    "    #length = meta['duration_ms']\n",
    "    #popularity = meta['popularity']\n",
    "\n",
    "    # features\n",
    "    acousticness = features[0]['acousticness']\n",
    "    danceability = features[0]['danceability']\n",
    "    energy = features[0]['energy']\n",
    "    instrumentalness = features[0]['instrumentalness']\n",
    "    liveness = features[0]['liveness']\n",
    "    loudness = features[0]['loudness']\n",
    "    speechiness = features[0]['speechiness']\n",
    "    tempo = features[0]['tempo']\n",
    "    #time_signature = features[0]['time_signature']\n",
    "    \n",
    "    track = [id, name, album, artist, artist_id, genres, acousticness, danceability, energy, instrumentalness, liveness, loudness, speechiness, tempo]\n",
    "    #track = [name, album, artist, release_date, length, popularity, danceability, acousticness, danceability, energy, instrumentalness, liveness, loudness, speechiness, tempo, time_signature]\n",
    "    return track"
   ]
  },
  {
   "cell_type": "markdown",
   "metadata": {},
   "source": [
    "###### Function modifed from code in Medium Article - https://medium.com/better-programming/how-to-extract-any-artists-data-using-spotify-s-api-python-and-spotipy-4c079401bc37"
   ]
  },
  {
   "cell_type": "code",
   "execution_count": 52,
   "metadata": {},
   "outputs": [],
   "source": [
    "def features_for_ids(ids):\n",
    "    # loop over track ids \n",
    "    tracks = []\n",
    "    #for i in range(3):\n",
    "    for i in range(len(ids)):\n",
    "        time.sleep(.5)\n",
    "        track = getTrackFeatures(ids[i])\n",
    "        if track is None: #if track features is NoneType, don't add the track to database\n",
    "            pass\n",
    "        else:\n",
    "            tracks.append(track)\n",
    "\n",
    "        # create dataset\n",
    "    df = pd.DataFrame(tracks, columns = ['track_id', 'name', 'album', 'artist', 'artist_id', 'genres', 'acousticness', 'danceability', 'energy', 'instrumentalness', 'liveness', 'loudness', 'speechiness', 'tempo'])\n",
    "        #df.to_csv(\"spotify.csv\", sep = ',')\n",
    "    return df\n"
   ]
  },
  {
   "cell_type": "markdown",
   "metadata": {},
   "source": [
    "### Create DataFrames for Each Playlist"
   ]
  },
  {
   "cell_type": "code",
   "execution_count": 53,
   "metadata": {},
   "outputs": [],
   "source": [
    "global_df = features_for_ids(global_ids)\n",
    "usa_df = features_for_ids(usa_ids)\n",
    "uk_df = features_for_ids(uk_ids)"
   ]
  },
  {
   "cell_type": "code",
   "execution_count": 54,
   "metadata": {},
   "outputs": [
    {
     "data": {
      "text/html": [
       "<div>\n",
       "<style scoped>\n",
       "    .dataframe tbody tr th:only-of-type {\n",
       "        vertical-align: middle;\n",
       "    }\n",
       "\n",
       "    .dataframe tbody tr th {\n",
       "        vertical-align: top;\n",
       "    }\n",
       "\n",
       "    .dataframe thead th {\n",
       "        text-align: right;\n",
       "    }\n",
       "</style>\n",
       "<table border=\"1\" class=\"dataframe\">\n",
       "  <thead>\n",
       "    <tr style=\"text-align: right;\">\n",
       "      <th></th>\n",
       "      <th>track_id</th>\n",
       "      <th>name</th>\n",
       "      <th>album</th>\n",
       "      <th>artist</th>\n",
       "      <th>artist_id</th>\n",
       "      <th>genres</th>\n",
       "      <th>acousticness</th>\n",
       "      <th>danceability</th>\n",
       "      <th>energy</th>\n",
       "      <th>instrumentalness</th>\n",
       "      <th>liveness</th>\n",
       "      <th>loudness</th>\n",
       "      <th>speechiness</th>\n",
       "      <th>tempo</th>\n",
       "    </tr>\n",
       "  </thead>\n",
       "  <tbody>\n",
       "    <tr>\n",
       "      <th>0</th>\n",
       "      <td>0VjIjW4GlUZAMYd2vXMi3b</td>\n",
       "      <td>Blinding Lights</td>\n",
       "      <td>After Hours</td>\n",
       "      <td>The Weeknd</td>\n",
       "      <td>1Xyo4u8uXC1ZmMpatF05PJ</td>\n",
       "      <td>[canadian contemporary r&amp;b, canadian pop, pop]</td>\n",
       "      <td>0.00146</td>\n",
       "      <td>0.514</td>\n",
       "      <td>0.730</td>\n",
       "      <td>0.000095</td>\n",
       "      <td>0.0897</td>\n",
       "      <td>-5.934</td>\n",
       "      <td>0.0598</td>\n",
       "      <td>171.005</td>\n",
       "    </tr>\n",
       "    <tr>\n",
       "      <th>1</th>\n",
       "      <td>127QTOFJsJQp5LbJbu3A1y</td>\n",
       "      <td>Toosie Slide</td>\n",
       "      <td>Toosie Slide</td>\n",
       "      <td>Drake</td>\n",
       "      <td>3TVXtAsR1Inumwj472S9r4</td>\n",
       "      <td>[canadian hip hop, canadian pop, hip hop, pop ...</td>\n",
       "      <td>0.32100</td>\n",
       "      <td>0.834</td>\n",
       "      <td>0.454</td>\n",
       "      <td>0.000006</td>\n",
       "      <td>0.1140</td>\n",
       "      <td>-9.750</td>\n",
       "      <td>0.2010</td>\n",
       "      <td>81.618</td>\n",
       "    </tr>\n",
       "    <tr>\n",
       "      <th>2</th>\n",
       "      <td>24Yi9hE78yPEbZ4kxyoXAI</td>\n",
       "      <td>Roses - Imanbek Remix</td>\n",
       "      <td>Roses (Imanbek Remix)</td>\n",
       "      <td>SAINt JHN</td>\n",
       "      <td>0H39MdGGX6dbnnQPt6NQkZ</td>\n",
       "      <td>[melodic rap, pop rap, rap, trap]</td>\n",
       "      <td>0.01670</td>\n",
       "      <td>0.770</td>\n",
       "      <td>0.724</td>\n",
       "      <td>0.010500</td>\n",
       "      <td>0.3530</td>\n",
       "      <td>-5.484</td>\n",
       "      <td>0.0495</td>\n",
       "      <td>121.974</td>\n",
       "    </tr>\n",
       "    <tr>\n",
       "      <th>3</th>\n",
       "      <td>3PfIrDoz19wz7qK7tYeu62</td>\n",
       "      <td>Don't Start Now</td>\n",
       "      <td>Future Nostalgia</td>\n",
       "      <td>Dua Lipa</td>\n",
       "      <td>6M2wZ9GZgrQXHCFfjv46we</td>\n",
       "      <td>[dance pop, pop, uk pop]</td>\n",
       "      <td>0.01250</td>\n",
       "      <td>0.794</td>\n",
       "      <td>0.793</td>\n",
       "      <td>0.000000</td>\n",
       "      <td>0.0952</td>\n",
       "      <td>-4.521</td>\n",
       "      <td>0.0842</td>\n",
       "      <td>123.941</td>\n",
       "    </tr>\n",
       "    <tr>\n",
       "      <th>4</th>\n",
       "      <td>0nbXyq5TXYPCO7pr3N8S4I</td>\n",
       "      <td>The Box</td>\n",
       "      <td>Please Excuse Me For Being Antisocial</td>\n",
       "      <td>Roddy Ricch</td>\n",
       "      <td>757aE44tKEUQEqRuT6GnEB</td>\n",
       "      <td>[melodic rap]</td>\n",
       "      <td>0.10400</td>\n",
       "      <td>0.896</td>\n",
       "      <td>0.586</td>\n",
       "      <td>0.000000</td>\n",
       "      <td>0.7900</td>\n",
       "      <td>-6.687</td>\n",
       "      <td>0.0559</td>\n",
       "      <td>116.971</td>\n",
       "    </tr>\n",
       "  </tbody>\n",
       "</table>\n",
       "</div>"
      ],
      "text/plain": [
       "                 track_id                   name  \\\n",
       "0  0VjIjW4GlUZAMYd2vXMi3b        Blinding Lights   \n",
       "1  127QTOFJsJQp5LbJbu3A1y           Toosie Slide   \n",
       "2  24Yi9hE78yPEbZ4kxyoXAI  Roses - Imanbek Remix   \n",
       "3  3PfIrDoz19wz7qK7tYeu62        Don't Start Now   \n",
       "4  0nbXyq5TXYPCO7pr3N8S4I                The Box   \n",
       "\n",
       "                                   album       artist               artist_id  \\\n",
       "0                            After Hours   The Weeknd  1Xyo4u8uXC1ZmMpatF05PJ   \n",
       "1                           Toosie Slide        Drake  3TVXtAsR1Inumwj472S9r4   \n",
       "2                  Roses (Imanbek Remix)    SAINt JHN  0H39MdGGX6dbnnQPt6NQkZ   \n",
       "3                       Future Nostalgia     Dua Lipa  6M2wZ9GZgrQXHCFfjv46we   \n",
       "4  Please Excuse Me For Being Antisocial  Roddy Ricch  757aE44tKEUQEqRuT6GnEB   \n",
       "\n",
       "                                              genres  acousticness  \\\n",
       "0     [canadian contemporary r&b, canadian pop, pop]       0.00146   \n",
       "1  [canadian hip hop, canadian pop, hip hop, pop ...       0.32100   \n",
       "2                  [melodic rap, pop rap, rap, trap]       0.01670   \n",
       "3                           [dance pop, pop, uk pop]       0.01250   \n",
       "4                                      [melodic rap]       0.10400   \n",
       "\n",
       "   danceability  energy  instrumentalness  liveness  loudness  speechiness  \\\n",
       "0         0.514   0.730          0.000095    0.0897    -5.934       0.0598   \n",
       "1         0.834   0.454          0.000006    0.1140    -9.750       0.2010   \n",
       "2         0.770   0.724          0.010500    0.3530    -5.484       0.0495   \n",
       "3         0.794   0.793          0.000000    0.0952    -4.521       0.0842   \n",
       "4         0.896   0.586          0.000000    0.7900    -6.687       0.0559   \n",
       "\n",
       "     tempo  \n",
       "0  171.005  \n",
       "1   81.618  \n",
       "2  121.974  \n",
       "3  123.941  \n",
       "4  116.971  "
      ]
     },
     "execution_count": 54,
     "metadata": {},
     "output_type": "execute_result"
    },
    {
     "data": {
      "text/html": [
       "<div>\n",
       "<style scoped>\n",
       "    .dataframe tbody tr th:only-of-type {\n",
       "        vertical-align: middle;\n",
       "    }\n",
       "\n",
       "    .dataframe tbody tr th {\n",
       "        vertical-align: top;\n",
       "    }\n",
       "\n",
       "    .dataframe thead th {\n",
       "        text-align: right;\n",
       "    }\n",
       "</style>\n",
       "<table border=\"1\" class=\"dataframe\">\n",
       "  <thead>\n",
       "    <tr style=\"text-align: right;\">\n",
       "      <th></th>\n",
       "      <th>track_id</th>\n",
       "      <th>name</th>\n",
       "      <th>album</th>\n",
       "      <th>artist</th>\n",
       "      <th>artist_id</th>\n",
       "      <th>genres</th>\n",
       "      <th>acousticness</th>\n",
       "      <th>danceability</th>\n",
       "      <th>energy</th>\n",
       "      <th>instrumentalness</th>\n",
       "      <th>liveness</th>\n",
       "      <th>loudness</th>\n",
       "      <th>speechiness</th>\n",
       "      <th>tempo</th>\n",
       "    </tr>\n",
       "  </thead>\n",
       "  <tbody>\n",
       "    <tr>\n",
       "      <th>0</th>\n",
       "      <td>127QTOFJsJQp5LbJbu3A1y</td>\n",
       "      <td>Toosie Slide</td>\n",
       "      <td>Toosie Slide</td>\n",
       "      <td>Drake</td>\n",
       "      <td>3TVXtAsR1Inumwj472S9r4</td>\n",
       "      <td>[canadian hip hop, canadian pop, hip hop, pop ...</td>\n",
       "      <td>0.32100</td>\n",
       "      <td>0.834</td>\n",
       "      <td>0.454</td>\n",
       "      <td>0.000006</td>\n",
       "      <td>0.1140</td>\n",
       "      <td>-9.750</td>\n",
       "      <td>0.2010</td>\n",
       "      <td>81.618</td>\n",
       "    </tr>\n",
       "    <tr>\n",
       "      <th>1</th>\n",
       "      <td>0nbXyq5TXYPCO7pr3N8S4I</td>\n",
       "      <td>The Box</td>\n",
       "      <td>Please Excuse Me For Being Antisocial</td>\n",
       "      <td>Roddy Ricch</td>\n",
       "      <td>757aE44tKEUQEqRuT6GnEB</td>\n",
       "      <td>[melodic rap]</td>\n",
       "      <td>0.10400</td>\n",
       "      <td>0.896</td>\n",
       "      <td>0.586</td>\n",
       "      <td>0.000000</td>\n",
       "      <td>0.7900</td>\n",
       "      <td>-6.687</td>\n",
       "      <td>0.0559</td>\n",
       "      <td>116.971</td>\n",
       "    </tr>\n",
       "    <tr>\n",
       "      <th>2</th>\n",
       "      <td>0VjIjW4GlUZAMYd2vXMi3b</td>\n",
       "      <td>Blinding Lights</td>\n",
       "      <td>After Hours</td>\n",
       "      <td>The Weeknd</td>\n",
       "      <td>1Xyo4u8uXC1ZmMpatF05PJ</td>\n",
       "      <td>[canadian contemporary r&amp;b, canadian pop, pop]</td>\n",
       "      <td>0.00146</td>\n",
       "      <td>0.514</td>\n",
       "      <td>0.730</td>\n",
       "      <td>0.000095</td>\n",
       "      <td>0.0897</td>\n",
       "      <td>-5.934</td>\n",
       "      <td>0.0598</td>\n",
       "      <td>171.005</td>\n",
       "    </tr>\n",
       "    <tr>\n",
       "      <th>3</th>\n",
       "      <td>22LAwLoDA5b4AaGSkg6bKW</td>\n",
       "      <td>Blueberry Faygo</td>\n",
       "      <td>Certified Hitmaker</td>\n",
       "      <td>Lil Mosey</td>\n",
       "      <td>5zctI4wO9XSKS8XwcnqEHk</td>\n",
       "      <td>[melodic rap, rap, rap conscient, trap, vapor ...</td>\n",
       "      <td>0.20700</td>\n",
       "      <td>0.774</td>\n",
       "      <td>0.554</td>\n",
       "      <td>0.000000</td>\n",
       "      <td>0.1320</td>\n",
       "      <td>-7.909</td>\n",
       "      <td>0.0383</td>\n",
       "      <td>99.034</td>\n",
       "    </tr>\n",
       "    <tr>\n",
       "      <th>4</th>\n",
       "      <td>24Yi9hE78yPEbZ4kxyoXAI</td>\n",
       "      <td>Roses - Imanbek Remix</td>\n",
       "      <td>Roses (Imanbek Remix)</td>\n",
       "      <td>SAINt JHN</td>\n",
       "      <td>0H39MdGGX6dbnnQPt6NQkZ</td>\n",
       "      <td>[melodic rap, pop rap, rap, trap]</td>\n",
       "      <td>0.01670</td>\n",
       "      <td>0.770</td>\n",
       "      <td>0.724</td>\n",
       "      <td>0.010500</td>\n",
       "      <td>0.3530</td>\n",
       "      <td>-5.484</td>\n",
       "      <td>0.0495</td>\n",
       "      <td>121.974</td>\n",
       "    </tr>\n",
       "  </tbody>\n",
       "</table>\n",
       "</div>"
      ],
      "text/plain": [
       "                 track_id                   name  \\\n",
       "0  127QTOFJsJQp5LbJbu3A1y           Toosie Slide   \n",
       "1  0nbXyq5TXYPCO7pr3N8S4I                The Box   \n",
       "2  0VjIjW4GlUZAMYd2vXMi3b        Blinding Lights   \n",
       "3  22LAwLoDA5b4AaGSkg6bKW        Blueberry Faygo   \n",
       "4  24Yi9hE78yPEbZ4kxyoXAI  Roses - Imanbek Remix   \n",
       "\n",
       "                                   album       artist               artist_id  \\\n",
       "0                           Toosie Slide        Drake  3TVXtAsR1Inumwj472S9r4   \n",
       "1  Please Excuse Me For Being Antisocial  Roddy Ricch  757aE44tKEUQEqRuT6GnEB   \n",
       "2                            After Hours   The Weeknd  1Xyo4u8uXC1ZmMpatF05PJ   \n",
       "3                     Certified Hitmaker    Lil Mosey  5zctI4wO9XSKS8XwcnqEHk   \n",
       "4                  Roses (Imanbek Remix)    SAINt JHN  0H39MdGGX6dbnnQPt6NQkZ   \n",
       "\n",
       "                                              genres  acousticness  \\\n",
       "0  [canadian hip hop, canadian pop, hip hop, pop ...       0.32100   \n",
       "1                                      [melodic rap]       0.10400   \n",
       "2     [canadian contemporary r&b, canadian pop, pop]       0.00146   \n",
       "3  [melodic rap, rap, rap conscient, trap, vapor ...       0.20700   \n",
       "4                  [melodic rap, pop rap, rap, trap]       0.01670   \n",
       "\n",
       "   danceability  energy  instrumentalness  liveness  loudness  speechiness  \\\n",
       "0         0.834   0.454          0.000006    0.1140    -9.750       0.2010   \n",
       "1         0.896   0.586          0.000000    0.7900    -6.687       0.0559   \n",
       "2         0.514   0.730          0.000095    0.0897    -5.934       0.0598   \n",
       "3         0.774   0.554          0.000000    0.1320    -7.909       0.0383   \n",
       "4         0.770   0.724          0.010500    0.3530    -5.484       0.0495   \n",
       "\n",
       "     tempo  \n",
       "0   81.618  \n",
       "1  116.971  \n",
       "2  171.005  \n",
       "3   99.034  \n",
       "4  121.974  "
      ]
     },
     "execution_count": 54,
     "metadata": {},
     "output_type": "execute_result"
    },
    {
     "data": {
      "text/html": [
       "<div>\n",
       "<style scoped>\n",
       "    .dataframe tbody tr th:only-of-type {\n",
       "        vertical-align: middle;\n",
       "    }\n",
       "\n",
       "    .dataframe tbody tr th {\n",
       "        vertical-align: top;\n",
       "    }\n",
       "\n",
       "    .dataframe thead th {\n",
       "        text-align: right;\n",
       "    }\n",
       "</style>\n",
       "<table border=\"1\" class=\"dataframe\">\n",
       "  <thead>\n",
       "    <tr style=\"text-align: right;\">\n",
       "      <th></th>\n",
       "      <th>track_id</th>\n",
       "      <th>name</th>\n",
       "      <th>album</th>\n",
       "      <th>artist</th>\n",
       "      <th>artist_id</th>\n",
       "      <th>genres</th>\n",
       "      <th>acousticness</th>\n",
       "      <th>danceability</th>\n",
       "      <th>energy</th>\n",
       "      <th>instrumentalness</th>\n",
       "      <th>liveness</th>\n",
       "      <th>loudness</th>\n",
       "      <th>speechiness</th>\n",
       "      <th>tempo</th>\n",
       "    </tr>\n",
       "  </thead>\n",
       "  <tbody>\n",
       "    <tr>\n",
       "      <th>0</th>\n",
       "      <td>5px6upUHM3fhOP621Edp4V</td>\n",
       "      <td>Physical</td>\n",
       "      <td>Physical</td>\n",
       "      <td>Dua Lipa</td>\n",
       "      <td>6M2wZ9GZgrQXHCFfjv46we</td>\n",
       "      <td>[dance pop, pop, uk pop]</td>\n",
       "      <td>0.0137</td>\n",
       "      <td>0.647</td>\n",
       "      <td>0.844</td>\n",
       "      <td>0.000658</td>\n",
       "      <td>0.102</td>\n",
       "      <td>-3.756</td>\n",
       "      <td>0.0457</td>\n",
       "      <td>146.962</td>\n",
       "    </tr>\n",
       "    <tr>\n",
       "      <th>1</th>\n",
       "      <td>2ZEq4HT450Ye9IFGPTl9qV</td>\n",
       "      <td>Lonely</td>\n",
       "      <td>Lonely</td>\n",
       "      <td>Joel Corry</td>\n",
       "      <td>6DgP9otnZw5z6daOntINxp</td>\n",
       "      <td>[deep groove house, house, uk dance]</td>\n",
       "      <td>0.0946</td>\n",
       "      <td>0.697</td>\n",
       "      <td>0.921</td>\n",
       "      <td>0.000019</td>\n",
       "      <td>0.159</td>\n",
       "      <td>-4.283</td>\n",
       "      <td>0.0424</td>\n",
       "      <td>123.988</td>\n",
       "    </tr>\n",
       "    <tr>\n",
       "      <th>2</th>\n",
       "      <td>5hff5RQeE84pznOt8WEWeO</td>\n",
       "      <td>Birthday</td>\n",
       "      <td>Birthday</td>\n",
       "      <td>Anne-Marie</td>\n",
       "      <td>1zNqDE7qDGCsyzJwohVaoX</td>\n",
       "      <td>[dance pop, pop, post-teen pop, tropical house...</td>\n",
       "      <td>0.0502</td>\n",
       "      <td>0.609</td>\n",
       "      <td>0.785</td>\n",
       "      <td>0.000000</td>\n",
       "      <td>0.171</td>\n",
       "      <td>-3.320</td>\n",
       "      <td>0.0891</td>\n",
       "      <td>151.995</td>\n",
       "    </tr>\n",
       "    <tr>\n",
       "      <th>3</th>\n",
       "      <td>24Yi9hE78yPEbZ4kxyoXAI</td>\n",
       "      <td>Roses - Imanbek Remix</td>\n",
       "      <td>Roses (Imanbek Remix)</td>\n",
       "      <td>SAINt JHN</td>\n",
       "      <td>0H39MdGGX6dbnnQPt6NQkZ</td>\n",
       "      <td>[melodic rap, pop rap, rap, trap]</td>\n",
       "      <td>0.0167</td>\n",
       "      <td>0.770</td>\n",
       "      <td>0.724</td>\n",
       "      <td>0.010500</td>\n",
       "      <td>0.353</td>\n",
       "      <td>-5.484</td>\n",
       "      <td>0.0495</td>\n",
       "      <td>121.974</td>\n",
       "    </tr>\n",
       "    <tr>\n",
       "      <th>4</th>\n",
       "      <td>2XU0oxnq2qxCpomAAuJY8K</td>\n",
       "      <td>Dance Monkey</td>\n",
       "      <td>Dance Monkey (Stripped Back) / Dance Monkey</td>\n",
       "      <td>Tones And I</td>\n",
       "      <td>2NjfBq1NflQcKSeiDooVjY</td>\n",
       "      <td>[australian pop]</td>\n",
       "      <td>0.6920</td>\n",
       "      <td>0.824</td>\n",
       "      <td>0.588</td>\n",
       "      <td>0.000104</td>\n",
       "      <td>0.149</td>\n",
       "      <td>-6.400</td>\n",
       "      <td>0.0924</td>\n",
       "      <td>98.027</td>\n",
       "    </tr>\n",
       "  </tbody>\n",
       "</table>\n",
       "</div>"
      ],
      "text/plain": [
       "                 track_id                   name  \\\n",
       "0  5px6upUHM3fhOP621Edp4V               Physical   \n",
       "1  2ZEq4HT450Ye9IFGPTl9qV                 Lonely   \n",
       "2  5hff5RQeE84pznOt8WEWeO               Birthday   \n",
       "3  24Yi9hE78yPEbZ4kxyoXAI  Roses - Imanbek Remix   \n",
       "4  2XU0oxnq2qxCpomAAuJY8K           Dance Monkey   \n",
       "\n",
       "                                         album       artist  \\\n",
       "0                                     Physical     Dua Lipa   \n",
       "1                                       Lonely   Joel Corry   \n",
       "2                                     Birthday   Anne-Marie   \n",
       "3                        Roses (Imanbek Remix)    SAINt JHN   \n",
       "4  Dance Monkey (Stripped Back) / Dance Monkey  Tones And I   \n",
       "\n",
       "                artist_id                                             genres  \\\n",
       "0  6M2wZ9GZgrQXHCFfjv46we                           [dance pop, pop, uk pop]   \n",
       "1  6DgP9otnZw5z6daOntINxp               [deep groove house, house, uk dance]   \n",
       "2  1zNqDE7qDGCsyzJwohVaoX  [dance pop, pop, post-teen pop, tropical house...   \n",
       "3  0H39MdGGX6dbnnQPt6NQkZ                  [melodic rap, pop rap, rap, trap]   \n",
       "4  2NjfBq1NflQcKSeiDooVjY                                   [australian pop]   \n",
       "\n",
       "   acousticness  danceability  energy  instrumentalness  liveness  loudness  \\\n",
       "0        0.0137         0.647   0.844          0.000658     0.102    -3.756   \n",
       "1        0.0946         0.697   0.921          0.000019     0.159    -4.283   \n",
       "2        0.0502         0.609   0.785          0.000000     0.171    -3.320   \n",
       "3        0.0167         0.770   0.724          0.010500     0.353    -5.484   \n",
       "4        0.6920         0.824   0.588          0.000104     0.149    -6.400   \n",
       "\n",
       "   speechiness    tempo  \n",
       "0       0.0457  146.962  \n",
       "1       0.0424  123.988  \n",
       "2       0.0891  151.995  \n",
       "3       0.0495  121.974  \n",
       "4       0.0924   98.027  "
      ]
     },
     "execution_count": 54,
     "metadata": {},
     "output_type": "execute_result"
    }
   ],
   "source": [
    "global_df.head()\n",
    "usa_df.head()\n",
    "uk_df.head()"
   ]
  },
  {
   "cell_type": "code",
   "execution_count": 55,
   "metadata": {},
   "outputs": [
    {
     "data": {
      "text/html": [
       "<div>\n",
       "<style scoped>\n",
       "    .dataframe tbody tr th:only-of-type {\n",
       "        vertical-align: middle;\n",
       "    }\n",
       "\n",
       "    .dataframe tbody tr th {\n",
       "        vertical-align: top;\n",
       "    }\n",
       "\n",
       "    .dataframe thead th {\n",
       "        text-align: right;\n",
       "    }\n",
       "</style>\n",
       "<table border=\"1\" class=\"dataframe\">\n",
       "  <thead>\n",
       "    <tr style=\"text-align: right;\">\n",
       "      <th></th>\n",
       "      <th>acousticness</th>\n",
       "      <th>danceability</th>\n",
       "      <th>energy</th>\n",
       "      <th>instrumentalness</th>\n",
       "      <th>liveness</th>\n",
       "      <th>loudness</th>\n",
       "      <th>speechiness</th>\n",
       "      <th>tempo</th>\n",
       "    </tr>\n",
       "  </thead>\n",
       "  <tbody>\n",
       "    <tr>\n",
       "      <th>count</th>\n",
       "      <td>50.000000</td>\n",
       "      <td>50.000000</td>\n",
       "      <td>50.000000</td>\n",
       "      <td>5.000000e+01</td>\n",
       "      <td>50.000000</td>\n",
       "      <td>50.000000</td>\n",
       "      <td>50.000000</td>\n",
       "      <td>50.000000</td>\n",
       "    </tr>\n",
       "    <tr>\n",
       "      <th>mean</th>\n",
       "      <td>0.228884</td>\n",
       "      <td>0.743000</td>\n",
       "      <td>0.621500</td>\n",
       "      <td>1.648593e-02</td>\n",
       "      <td>0.175262</td>\n",
       "      <td>-6.068680</td>\n",
       "      <td>0.134052</td>\n",
       "      <td>122.428160</td>\n",
       "    </tr>\n",
       "    <tr>\n",
       "      <th>std</th>\n",
       "      <td>0.247243</td>\n",
       "      <td>0.123907</td>\n",
       "      <td>0.152128</td>\n",
       "      <td>9.424920e-02</td>\n",
       "      <td>0.158205</td>\n",
       "      <td>2.211528</td>\n",
       "      <td>0.109738</td>\n",
       "      <td>26.899262</td>\n",
       "    </tr>\n",
       "    <tr>\n",
       "      <th>min</th>\n",
       "      <td>0.001460</td>\n",
       "      <td>0.430000</td>\n",
       "      <td>0.225000</td>\n",
       "      <td>0.000000e+00</td>\n",
       "      <td>0.057400</td>\n",
       "      <td>-14.454000</td>\n",
       "      <td>0.029000</td>\n",
       "      <td>75.801000</td>\n",
       "    </tr>\n",
       "    <tr>\n",
       "      <th>25%</th>\n",
       "      <td>0.042450</td>\n",
       "      <td>0.676000</td>\n",
       "      <td>0.538500</td>\n",
       "      <td>0.000000e+00</td>\n",
       "      <td>0.088950</td>\n",
       "      <td>-6.734250</td>\n",
       "      <td>0.056250</td>\n",
       "      <td>100.287000</td>\n",
       "    </tr>\n",
       "    <tr>\n",
       "      <th>50%</th>\n",
       "      <td>0.156000</td>\n",
       "      <td>0.767000</td>\n",
       "      <td>0.613000</td>\n",
       "      <td>6.950000e-07</td>\n",
       "      <td>0.106500</td>\n",
       "      <td>-5.612500</td>\n",
       "      <td>0.092200</td>\n",
       "      <td>117.459500</td>\n",
       "    </tr>\n",
       "    <tr>\n",
       "      <th>75%</th>\n",
       "      <td>0.298750</td>\n",
       "      <td>0.835500</td>\n",
       "      <td>0.729750</td>\n",
       "      <td>8.080000e-05</td>\n",
       "      <td>0.194000</td>\n",
       "      <td>-4.581000</td>\n",
       "      <td>0.179000</td>\n",
       "      <td>140.309750</td>\n",
       "    </tr>\n",
       "    <tr>\n",
       "      <th>max</th>\n",
       "      <td>0.902000</td>\n",
       "      <td>0.923000</td>\n",
       "      <td>0.955000</td>\n",
       "      <td>6.570000e-01</td>\n",
       "      <td>0.790000</td>\n",
       "      <td>-2.957000</td>\n",
       "      <td>0.481000</td>\n",
       "      <td>193.896000</td>\n",
       "    </tr>\n",
       "  </tbody>\n",
       "</table>\n",
       "</div>"
      ],
      "text/plain": [
       "       acousticness  danceability     energy  instrumentalness   liveness  \\\n",
       "count     50.000000     50.000000  50.000000      5.000000e+01  50.000000   \n",
       "mean       0.228884      0.743000   0.621500      1.648593e-02   0.175262   \n",
       "std        0.247243      0.123907   0.152128      9.424920e-02   0.158205   \n",
       "min        0.001460      0.430000   0.225000      0.000000e+00   0.057400   \n",
       "25%        0.042450      0.676000   0.538500      0.000000e+00   0.088950   \n",
       "50%        0.156000      0.767000   0.613000      6.950000e-07   0.106500   \n",
       "75%        0.298750      0.835500   0.729750      8.080000e-05   0.194000   \n",
       "max        0.902000      0.923000   0.955000      6.570000e-01   0.790000   \n",
       "\n",
       "        loudness  speechiness       tempo  \n",
       "count  50.000000    50.000000   50.000000  \n",
       "mean   -6.068680     0.134052  122.428160  \n",
       "std     2.211528     0.109738   26.899262  \n",
       "min   -14.454000     0.029000   75.801000  \n",
       "25%    -6.734250     0.056250  100.287000  \n",
       "50%    -5.612500     0.092200  117.459500  \n",
       "75%    -4.581000     0.179000  140.309750  \n",
       "max    -2.957000     0.481000  193.896000  "
      ]
     },
     "execution_count": 55,
     "metadata": {},
     "output_type": "execute_result"
    },
    {
     "data": {
      "text/html": [
       "<div>\n",
       "<style scoped>\n",
       "    .dataframe tbody tr th:only-of-type {\n",
       "        vertical-align: middle;\n",
       "    }\n",
       "\n",
       "    .dataframe tbody tr th {\n",
       "        vertical-align: top;\n",
       "    }\n",
       "\n",
       "    .dataframe thead th {\n",
       "        text-align: right;\n",
       "    }\n",
       "</style>\n",
       "<table border=\"1\" class=\"dataframe\">\n",
       "  <thead>\n",
       "    <tr style=\"text-align: right;\">\n",
       "      <th></th>\n",
       "      <th>acousticness</th>\n",
       "      <th>danceability</th>\n",
       "      <th>energy</th>\n",
       "      <th>instrumentalness</th>\n",
       "      <th>liveness</th>\n",
       "      <th>loudness</th>\n",
       "      <th>speechiness</th>\n",
       "      <th>tempo</th>\n",
       "    </tr>\n",
       "  </thead>\n",
       "  <tbody>\n",
       "    <tr>\n",
       "      <th>count</th>\n",
       "      <td>50.000000</td>\n",
       "      <td>50.000000</td>\n",
       "      <td>50.000000</td>\n",
       "      <td>50.000000</td>\n",
       "      <td>50.000000</td>\n",
       "      <td>50.000000</td>\n",
       "      <td>50.000000</td>\n",
       "      <td>50.000000</td>\n",
       "    </tr>\n",
       "    <tr>\n",
       "      <th>mean</th>\n",
       "      <td>0.205354</td>\n",
       "      <td>0.746060</td>\n",
       "      <td>0.624320</td>\n",
       "      <td>0.013529</td>\n",
       "      <td>0.201174</td>\n",
       "      <td>-6.043960</td>\n",
       "      <td>0.146588</td>\n",
       "      <td>124.891900</td>\n",
       "    </tr>\n",
       "    <tr>\n",
       "      <th>std</th>\n",
       "      <td>0.234002</td>\n",
       "      <td>0.127988</td>\n",
       "      <td>0.136392</td>\n",
       "      <td>0.092874</td>\n",
       "      <td>0.157610</td>\n",
       "      <td>2.019029</td>\n",
       "      <td>0.110702</td>\n",
       "      <td>26.001864</td>\n",
       "    </tr>\n",
       "    <tr>\n",
       "      <th>min</th>\n",
       "      <td>0.001460</td>\n",
       "      <td>0.430000</td>\n",
       "      <td>0.225000</td>\n",
       "      <td>0.000000</td>\n",
       "      <td>0.059600</td>\n",
       "      <td>-14.454000</td>\n",
       "      <td>0.030500</td>\n",
       "      <td>75.801000</td>\n",
       "    </tr>\n",
       "    <tr>\n",
       "      <th>25%</th>\n",
       "      <td>0.036600</td>\n",
       "      <td>0.680750</td>\n",
       "      <td>0.548000</td>\n",
       "      <td>0.000000</td>\n",
       "      <td>0.102000</td>\n",
       "      <td>-6.734250</td>\n",
       "      <td>0.057500</td>\n",
       "      <td>104.489750</td>\n",
       "    </tr>\n",
       "    <tr>\n",
       "      <th>50%</th>\n",
       "      <td>0.125000</td>\n",
       "      <td>0.774500</td>\n",
       "      <td>0.617500</td>\n",
       "      <td>0.000000</td>\n",
       "      <td>0.139500</td>\n",
       "      <td>-5.612500</td>\n",
       "      <td>0.105700</td>\n",
       "      <td>122.957500</td>\n",
       "    </tr>\n",
       "    <tr>\n",
       "      <th>75%</th>\n",
       "      <td>0.268750</td>\n",
       "      <td>0.836000</td>\n",
       "      <td>0.729750</td>\n",
       "      <td>0.000001</td>\n",
       "      <td>0.258000</td>\n",
       "      <td>-4.806750</td>\n",
       "      <td>0.216750</td>\n",
       "      <td>142.741250</td>\n",
       "    </tr>\n",
       "    <tr>\n",
       "      <th>max</th>\n",
       "      <td>0.902000</td>\n",
       "      <td>0.923000</td>\n",
       "      <td>0.955000</td>\n",
       "      <td>0.657000</td>\n",
       "      <td>0.790000</td>\n",
       "      <td>-3.158000</td>\n",
       "      <td>0.481000</td>\n",
       "      <td>180.051000</td>\n",
       "    </tr>\n",
       "  </tbody>\n",
       "</table>\n",
       "</div>"
      ],
      "text/plain": [
       "       acousticness  danceability     energy  instrumentalness   liveness  \\\n",
       "count     50.000000     50.000000  50.000000         50.000000  50.000000   \n",
       "mean       0.205354      0.746060   0.624320          0.013529   0.201174   \n",
       "std        0.234002      0.127988   0.136392          0.092874   0.157610   \n",
       "min        0.001460      0.430000   0.225000          0.000000   0.059600   \n",
       "25%        0.036600      0.680750   0.548000          0.000000   0.102000   \n",
       "50%        0.125000      0.774500   0.617500          0.000000   0.139500   \n",
       "75%        0.268750      0.836000   0.729750          0.000001   0.258000   \n",
       "max        0.902000      0.923000   0.955000          0.657000   0.790000   \n",
       "\n",
       "        loudness  speechiness       tempo  \n",
       "count  50.000000    50.000000   50.000000  \n",
       "mean   -6.043960     0.146588  124.891900  \n",
       "std     2.019029     0.110702   26.001864  \n",
       "min   -14.454000     0.030500   75.801000  \n",
       "25%    -6.734250     0.057500  104.489750  \n",
       "50%    -5.612500     0.105700  122.957500  \n",
       "75%    -4.806750     0.216750  142.741250  \n",
       "max    -3.158000     0.481000  180.051000  "
      ]
     },
     "execution_count": 55,
     "metadata": {},
     "output_type": "execute_result"
    },
    {
     "data": {
      "text/html": [
       "<div>\n",
       "<style scoped>\n",
       "    .dataframe tbody tr th:only-of-type {\n",
       "        vertical-align: middle;\n",
       "    }\n",
       "\n",
       "    .dataframe tbody tr th {\n",
       "        vertical-align: top;\n",
       "    }\n",
       "\n",
       "    .dataframe thead th {\n",
       "        text-align: right;\n",
       "    }\n",
       "</style>\n",
       "<table border=\"1\" class=\"dataframe\">\n",
       "  <thead>\n",
       "    <tr style=\"text-align: right;\">\n",
       "      <th></th>\n",
       "      <th>acousticness</th>\n",
       "      <th>danceability</th>\n",
       "      <th>energy</th>\n",
       "      <th>instrumentalness</th>\n",
       "      <th>liveness</th>\n",
       "      <th>loudness</th>\n",
       "      <th>speechiness</th>\n",
       "      <th>tempo</th>\n",
       "    </tr>\n",
       "  </thead>\n",
       "  <tbody>\n",
       "    <tr>\n",
       "      <th>count</th>\n",
       "      <td>50.000000</td>\n",
       "      <td>50.000000</td>\n",
       "      <td>50.000000</td>\n",
       "      <td>50.000000</td>\n",
       "      <td>50.000000</td>\n",
       "      <td>50.00000</td>\n",
       "      <td>50.000000</td>\n",
       "      <td>50.000000</td>\n",
       "    </tr>\n",
       "    <tr>\n",
       "      <th>mean</th>\n",
       "      <td>0.207442</td>\n",
       "      <td>0.678520</td>\n",
       "      <td>0.683640</td>\n",
       "      <td>0.003682</td>\n",
       "      <td>0.193468</td>\n",
       "      <td>-5.36942</td>\n",
       "      <td>0.085470</td>\n",
       "      <td>113.542500</td>\n",
       "    </tr>\n",
       "    <tr>\n",
       "      <th>std</th>\n",
       "      <td>0.239954</td>\n",
       "      <td>0.115643</td>\n",
       "      <td>0.169296</td>\n",
       "      <td>0.017555</td>\n",
       "      <td>0.156778</td>\n",
       "      <td>1.73039</td>\n",
       "      <td>0.069539</td>\n",
       "      <td>22.504201</td>\n",
       "    </tr>\n",
       "    <tr>\n",
       "      <th>min</th>\n",
       "      <td>0.001470</td>\n",
       "      <td>0.420000</td>\n",
       "      <td>0.267000</td>\n",
       "      <td>0.000000</td>\n",
       "      <td>0.044000</td>\n",
       "      <td>-11.14400</td>\n",
       "      <td>0.028700</td>\n",
       "      <td>73.877000</td>\n",
       "    </tr>\n",
       "    <tr>\n",
       "      <th>25%</th>\n",
       "      <td>0.041725</td>\n",
       "      <td>0.602750</td>\n",
       "      <td>0.599750</td>\n",
       "      <td>0.000000</td>\n",
       "      <td>0.094150</td>\n",
       "      <td>-6.38125</td>\n",
       "      <td>0.042575</td>\n",
       "      <td>96.139750</td>\n",
       "    </tr>\n",
       "    <tr>\n",
       "      <th>50%</th>\n",
       "      <td>0.122500</td>\n",
       "      <td>0.672000</td>\n",
       "      <td>0.690500</td>\n",
       "      <td>0.000000</td>\n",
       "      <td>0.149000</td>\n",
       "      <td>-5.12150</td>\n",
       "      <td>0.055000</td>\n",
       "      <td>114.991500</td>\n",
       "    </tr>\n",
       "    <tr>\n",
       "      <th>75%</th>\n",
       "      <td>0.253750</td>\n",
       "      <td>0.746250</td>\n",
       "      <td>0.797500</td>\n",
       "      <td>0.000011</td>\n",
       "      <td>0.212500</td>\n",
       "      <td>-4.10750</td>\n",
       "      <td>0.106350</td>\n",
       "      <td>125.742250</td>\n",
       "    </tr>\n",
       "    <tr>\n",
       "      <th>max</th>\n",
       "      <td>0.913000</td>\n",
       "      <td>0.922000</td>\n",
       "      <td>0.955000</td>\n",
       "      <td>0.110000</td>\n",
       "      <td>0.790000</td>\n",
       "      <td>-2.72900</td>\n",
       "      <td>0.352000</td>\n",
       "      <td>171.017000</td>\n",
       "    </tr>\n",
       "  </tbody>\n",
       "</table>\n",
       "</div>"
      ],
      "text/plain": [
       "       acousticness  danceability     energy  instrumentalness   liveness  \\\n",
       "count     50.000000     50.000000  50.000000         50.000000  50.000000   \n",
       "mean       0.207442      0.678520   0.683640          0.003682   0.193468   \n",
       "std        0.239954      0.115643   0.169296          0.017555   0.156778   \n",
       "min        0.001470      0.420000   0.267000          0.000000   0.044000   \n",
       "25%        0.041725      0.602750   0.599750          0.000000   0.094150   \n",
       "50%        0.122500      0.672000   0.690500          0.000000   0.149000   \n",
       "75%        0.253750      0.746250   0.797500          0.000011   0.212500   \n",
       "max        0.913000      0.922000   0.955000          0.110000   0.790000   \n",
       "\n",
       "       loudness  speechiness       tempo  \n",
       "count  50.00000    50.000000   50.000000  \n",
       "mean   -5.36942     0.085470  113.542500  \n",
       "std     1.73039     0.069539   22.504201  \n",
       "min   -11.14400     0.028700   73.877000  \n",
       "25%    -6.38125     0.042575   96.139750  \n",
       "50%    -5.12150     0.055000  114.991500  \n",
       "75%    -4.10750     0.106350  125.742250  \n",
       "max    -2.72900     0.352000  171.017000  "
      ]
     },
     "execution_count": 55,
     "metadata": {},
     "output_type": "execute_result"
    }
   ],
   "source": [
    "global_df.describe()\n",
    "usa_df.describe()\n",
    "uk_df.describe()"
   ]
  },
  {
   "cell_type": "code",
   "execution_count": null,
   "metadata": {},
   "outputs": [],
   "source": []
  },
  {
   "cell_type": "code",
   "execution_count": 56,
   "metadata": {},
   "outputs": [],
   "source": [
    "global_set = set(global_df.name)\n",
    "usa_set = set(usa_df.name)\n",
    "uk_set = set(uk_df.name)\n",
    "set_list = [global_set, usa_set, uk_set]"
   ]
  },
  {
   "cell_type": "code",
   "execution_count": 57,
   "metadata": {},
   "outputs": [
    {
     "data": {
      "text/plain": [
       "<Figure size 576x396 with 0 Axes>"
      ]
     },
     "execution_count": 57,
     "metadata": {},
     "output_type": "execute_result"
    },
    {
     "data": {
      "image/png": "[encoded data removed]",
      "text/plain": [
       "<Figure size 576x396 with 1 Axes>"
      ]
     },
     "metadata": {},
     "output_type": "display_data"
    }
   ],
   "source": [
    "plt.figure(facecolor='white')\n",
    "fig1 = venn2([global_set, usa_set],('Global', 'USA'))\n",
    "plt.savefig('global_U_usa', dpi=240)"
   ]
  },
  {
   "cell_type": "code",
   "execution_count": 58,
   "metadata": {},
   "outputs": [
    {
     "data": {
      "text/plain": [
       "<Figure size 576x396 with 0 Axes>"
      ]
     },
     "execution_count": 58,
     "metadata": {},
     "output_type": "execute_result"
    },
    {
     "data": {
      "image/png": "[encoded data removed]",
      "text/plain": [
       "<Figure size 576x396 with 1 Axes>"
      ]
     },
     "metadata": {},
     "output_type": "display_data"
    }
   ],
   "source": [
    "plt.figure(facecolor='white')\n",
    "fig2 = venn2([global_set, uk_set], ('Global', 'UK'))\n",
    "plt.savefig('global_U_uk', dpi=240)"
   ]
  },
  {
   "cell_type": "code",
   "execution_count": 59,
   "metadata": {},
   "outputs": [
    {
     "data": {
      "text/plain": [
       "<Figure size 576x396 with 0 Axes>"
      ]
     },
     "execution_count": 59,
     "metadata": {},
     "output_type": "execute_result"
    },
    {
     "data": {
      "image/png": "[encoded data removed]",
      "text/plain": [
       "<Figure size 576x396 with 1 Axes>"
      ]
     },
     "metadata": {},
     "output_type": "display_data"
    }
   ],
   "source": [
    "plt.figure(facecolor='white')\n",
    "fig3 = venn2([usa_set, uk_set], ('USA', 'UK'))\n",
    "plt.savefig('usa_U_uk', dpi=240)"
   ]
  },
  {
   "cell_type": "code",
   "execution_count": 60,
   "metadata": {},
   "outputs": [
    {
     "data": {
      "text/plain": [
       "<Figure size 576x396 with 0 Axes>"
      ]
     },
     "execution_count": 60,
     "metadata": {},
     "output_type": "execute_result"
    },
    {
     "data": {
      "text/plain": [
       "<matplotlib_venn._common.VennDiagram at 0x1a22a30f90>"
      ]
     },
     "execution_count": 60,
     "metadata": {},
     "output_type": "execute_result"
    },
    {
     "data": {
      "image/png": "[encoded data removed]",
      "text/plain": [
       "<Figure size 576x396 with 1 Axes>"
      ]
     },
     "metadata": {},
     "output_type": "display_data"
    }
   ],
   "source": [
    "plt.figure(facecolor='white')\n",
    "venn3(set_list, ('Global', 'USA', 'UK'))\n",
    "plt.savefig('global_U_usa_U_uk', dpi=240)"
   ]
  },
  {
   "cell_type": "markdown",
   "metadata": {},
   "source": [
    "### Questions:"
   ]
  },
  {
   "cell_type": "markdown",
   "metadata": {},
   "source": [
    "#### Do the averages of the features of the Global Top 50 differ significantly from those of USA Top 50?"
   ]
  },
  {
   "cell_type": "code",
   "execution_count": 61,
   "metadata": {},
   "outputs": [
    {
     "data": {
      "text/plain": [
       "6.52399492828199e-05"
      ]
     },
     "execution_count": 61,
     "metadata": {},
     "output_type": "execute_result"
    }
   ],
   "source": [
    "# find cosine similiarity between the average vectors\n",
    "def feature_similarity(df1, df2):\n",
    "    vector1 = np.array(df1.mean())\n",
    "    vector2 = np.array(df2.mean())\n",
    "    norm1 = np.linalg.norm(vector1)\n",
    "    norm2 = np.linalg.norm(vector2)\n",
    "    #normalize the length and tempo and time_signature\n",
    "    vector1 = vector1/norm1\n",
    "    vector2 = vector2/norm2\n",
    "    #calculate the similarity\n",
    "    return vector1.dot(vector2)/(norm1 * norm2)\n",
    "\n",
    "feature_similarity(global_df, usa_df) #test  "
   ]
  },
  {
   "cell_type": "markdown",
   "metadata": {},
   "source": [
    "#### What is the intersection set of Global Top 50 and USA Top 50?"
   ]
  },
  {
   "cell_type": "code",
   "execution_count": null,
   "metadata": {},
   "outputs": [],
   "source": []
  },
  {
   "cell_type": "markdown",
   "metadata": {},
   "source": [
    "#### How does this compare to the Intersection Sets w/ other countries?"
   ]
  },
  {
   "cell_type": "code",
   "execution_count": null,
   "metadata": {},
   "outputs": [],
   "source": []
  },
  {
   "cell_type": "markdown",
   "metadata": {},
   "source": [
    "#### Which country's musical taste is most similar to our own?"
   ]
  },
  {
   "cell_type": "code",
   "execution_count": null,
   "metadata": {},
   "outputs": [],
   "source": []
  },
  {
   "cell_type": "markdown",
   "metadata": {},
   "source": [
    "#### What is the correlation between features?"
   ]
  },
  {
   "cell_type": "code",
   "execution_count": 71,
   "metadata": {},
   "outputs": [
    {
     "data": {
      "image/png": "[encoded data removed]",
      "text/plain": [
       "<Figure size 576x396 with 2 Axes>"
      ]
     },
     "metadata": {},
     "output_type": "display_data"
    }
   ],
   "source": [
    "#come back to this and create a merged dataframe of all the regions, then recalculate.\n",
    "def feature_correlation_map(dataframe):\n",
    "    title = str(dataframe.name)\n",
    "    corr = dataframe.corr()\n",
    "    ax = sns.heatmap(\n",
    "    corr, \n",
    "    vmin=-1, vmax=1, center=0,\n",
    "    cmap=sns.diverging_palette(20, 220, n=200),\n",
    "    square=True\n",
    "    )\n",
    "    ax.set_xticklabels(\n",
    "    ax.get_xticklabels(),\n",
    "    rotation=45,\n",
    "    horizontalalignment='right'\n",
    "    )   \n",
    "    \n",
    "\n",
    "feature_correlation_map(global_df) #test\n",
    "plt.savefig('global_correlation', dpi=240)"
   ]
  },
  {
   "cell_type": "markdown",
   "metadata": {},
   "source": [
    "### Feature Descriptions"
   ]
  },
  {
   "cell_type": "markdown",
   "metadata": {},
   "source": [
    "<img src=\"features_table.png\">"
   ]
  },
  {
   "cell_type": "code",
   "execution_count": null,
   "metadata": {},
   "outputs": [],
   "source": []
  }
 ],
 "metadata": {
  "kernelspec": {
   "display_name": "Python 3",
   "language": "python",
   "name": "python3"
  },
  "language_info": {
   "codemirror_mode": {
    "name": "ipython",
    "version": 3
   },
   "file_extension": ".py",
   "mimetype": "text/x-python",
   "name": "python",
   "nbconvert_exporter": "python",
   "pygments_lexer": "ipython3",
   "version": "3.7.7"
  }
 },
 "nbformat": 4,
 "nbformat_minor": 4
}
